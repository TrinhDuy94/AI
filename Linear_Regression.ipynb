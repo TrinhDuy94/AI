{
 "cells": [
  {
   "cell_type": "code",
   "execution_count": 12,
   "metadata": {
    "colab": {
     "base_uri": "https://localhost:8080/",
     "height": 255
    },
    "id": "_nuriODFbl32",
    "outputId": "6e5e489d-2593-40d4-e478-5568dc71bd5b"
   },
   "outputs": [
    {
     "name": "stdout",
     "output_type": "stream",
     "text": [
      "Ket Qua: \n",
      "0.4872849963998045\n",
      "0.0013995800619440123\n",
      "[86.27140264333552, 54.81435831869096, 46.273050152017014, 43.95388938522459, 43.32418412182852, 43.15320475400452, 43.106779961798054, 43.09417459698823, 43.09075197783645, 43.089822686356314, 43.08957038947854, 43.08950191265187, 43.08948334691482, 43.08947833331981, 43.08947699936977, 43.089476664564934, 43.089476601031265, 43.089476611164, 43.08947664129343, 43.089476676855, 43.089476713889944, 43.0894767513256, 43.08947678886944, 43.089476826442805, 43.08947686402391, 43.08947690160707, 43.089476939190554, 43.08947697677409, 43.08947701435744, 43.08947705194059, 43.08947708952358, 43.08947712710639, 43.08947716468906, 43.08947720227144, 43.08947723985368, 43.08947727743572, 43.08947731501763, 43.08947735259929, 43.08947739018076, 43.089477427762084, 43.08947746534318, 43.08947750292408, 43.08947754050485, 43.0894775780854, 43.08947761566576, 43.08947765324593, 43.08947769082592, 43.08947772840574, 43.08947776598535, 43.089477803564776, 43.08947784114399, 43.08947787872304, 43.089477916301924, 43.089477953880575, 43.08947799145906, 43.089478029037345, 43.08947806661545, 43.08947810419333, 43.089478141771124, 43.08947817934868]\n",
      "Gia Tri Du Doan: \n",
      "9.259814511658229\n"
     ]
    },
    {
     "data": {
      "image/png": "[encoded data removed]",
      "text/plain": [
       "<Figure size 432x288 with 1 Axes>"
      ]
     },
     "metadata": {
      "needs_background": "light"
     },
     "output_type": "display_data"
    }
   ],
   "source": [
    "import pandas as pd\n",
    "import matplotlib.pyplot as plt\n",
    "import ssl\n",
    "ssl._create_default_https_context = ssl._create_unverified_context\n",
    "url = \"https://github.com/TrinhDuy94/AI/blob/master/Advertising.csv?raw=true\"\n",
    "dataframe = pd.read_csv(url)\n",
    "#print(dataframe)\n",
    "X = dataframe.values[: ,2]\n",
    "Y = dataframe.values[: ,4]\n",
    "#plt.scatter(X, Y, marker='o')\n",
    "#plt.show()\n",
    "\n",
    "def predict(new_radio, weight, bias):\n",
    "    return weight*new_radio + bias\n",
    "\n",
    "def cost_function(X, Y, weight, bias):\n",
    "    n = len(X)\n",
    "    sum_error = 0\n",
    "    for i in range(n):\n",
    "        sum_error += (Y[i] - (weight*X[i] + bias))**2\n",
    "        \n",
    "    return sum_error/n\n",
    "\n",
    "def update_weight(X, Y, weight, bias, learning_rate):\n",
    "    n = len(X)\n",
    "    weight_temp = 0.0\n",
    "    bias_temp =0.0\n",
    "    for i in range(n):\n",
    "        weight_temp += -2*X[i]*(Y[i] - (X[i]*weight +bias))\n",
    "        bias_temp += -2*(Y[i] - (X[i]*weight +bias))\n",
    "    weight -= (weight_temp/n)*learning_rate\n",
    "    bias -= (bias/n)*learning_rate\n",
    "    \n",
    "    return weight, bias\n",
    "\n",
    "def train(X, Y, weight, bias, learning_rate, iter):\n",
    "    cost_his = []\n",
    "    for i in range(iter):\n",
    "        weight, bias = update_weight(X, Y, weight, bias, learning_rate)\n",
    "        cost = cost_function(X, Y, weight, bias)\n",
    "        cost_his.append(cost)\n",
    "    \n",
    "    return weight, bias, cost_his\n",
    "\n",
    "weight, bias, cost = train(X, Y, 0.03, 0.0014, 0.001, 60)\n",
    "print(\"Ket Qua: \")\n",
    "print(weight)\n",
    "print(bias)\n",
    "print(cost)\n",
    "print(\"Gia Tri Du Doan: \")\n",
    "print(predict(19, weight, bias))\n",
    "\n",
    "solanlap = [i for i in range(60)]\n",
    "plt.plot(solanlap,cost)\n",
    "plt.show()"
   ]
  },
  {
   "cell_type": "code",
   "execution_count": null,
   "metadata": {
    "id": "X5gVXiiFcfcs"
   },
   "outputs": [],
   "source": []
  }
 ],
 "metadata": {
  "colab": {
   "authorship_tag": "ABX9TyNWjD19M2wuSHNstiy2ezq7",
   "name": "Linear Regression.ipynb",
   "provenance": []
  },
  "kernelspec": {
   "display_name": "Python 3",
   "language": "python",
   "name": "python3"
  },
  "language_info": {
   "codemirror_mode": {
    "name": "ipython",
    "version": 3
   },
   "file_extension": ".py",
   "mimetype": "text/x-python",
   "name": "python",
   "nbconvert_exporter": "python",
   "pygments_lexer": "ipython3",
   "version": "3.7.1"
  }
 },
 "nbformat": 4,
 "nbformat_minor": 4
}
