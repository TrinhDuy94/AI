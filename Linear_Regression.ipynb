{
  "nbformat": 4,
  "nbformat_minor": 0,
  "metadata": {
    "colab": {
      "name": "Linear Regression.ipynb",
      "provenance": [],
      "authorship_tag": "ABX9TyNWjD19M2wuSHNstiy2ezq7"
    },
    "kernelspec": {
      "name": "python3",
      "display_name": "Python 3"
    }
  },
  "cells": [
    {
      "cell_type": "code",
      "metadata": {
        "id": "_nuriODFbl32",
        "outputId": "6e5e489d-2593-40d4-e478-5568dc71bd5b",
        "colab": {
          "base_uri": "https://localhost:8080/",
          "height": 255
        }
      },
      "source": [
        "import pandas as pd\n",
        "url = \"https://github.com/TrinhDuy94/AI/blob/master/Advertising.csv?raw=true\"\n",
        "df = pd.read_csv(url)\n",
        "print(df)"
      ],
      "execution_count": 2,
      "outputs": [
        {
          "output_type": "stream",
          "text": [
            "     Unnamed: 0     TV  radio  newspaper  sales\n",
            "0             1  230.1   37.8       69.2   22.1\n",
            "1             2   44.5   39.3       45.1   10.4\n",
            "2             3   17.2   45.9       69.3    9.3\n",
            "3             4  151.5   41.3       58.5   18.5\n",
            "4             5  180.8   10.8       58.4   12.9\n",
            "..          ...    ...    ...        ...    ...\n",
            "195         196   38.2    3.7       13.8    7.6\n",
            "196         197   94.2    4.9        8.1    9.7\n",
            "197         198  177.0    9.3        6.4   12.8\n",
            "198         199  283.6   42.0       66.2   25.5\n",
            "199         200  232.1    8.6        8.7   13.4\n",
            "\n",
            "[200 rows x 5 columns]\n"
          ],
          "name": "stdout"
        }
      ]
    },
    {
      "cell_type": "code",
      "metadata": {
        "id": "X5gVXiiFcfcs"
      },
      "source": [
        ""
      ],
      "execution_count": null,
      "outputs": []
    }
  ]
}