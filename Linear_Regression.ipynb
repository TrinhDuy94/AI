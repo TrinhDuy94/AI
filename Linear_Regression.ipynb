{
 "cells": [
  {
   "cell_type": "code",
   "execution_count": 2,
   "metadata": {
    "colab": {
     "base_uri": "https://localhost:8080/",
     "height": 255
    },
    "id": "_nuriODFbl32",
    "outputId": "6e5e489d-2593-40d4-e478-5568dc71bd5b"
   },
   "outputs": [
    {
     "name": "stdout",
     "output_type": "stream",
     "text": [
      "     Unnamed: 0     TV  radio  newspaper  sales\n",
      "0             1  230.1   37.8       69.2   22.1\n",
      "1             2   44.5   39.3       45.1   10.4\n",
      "2             3   17.2   45.9       69.3    9.3\n",
      "3             4  151.5   41.3       58.5   18.5\n",
      "4             5  180.8   10.8       58.4   12.9\n",
      "5             6    8.7   48.9       75.0    7.2\n",
      "6             7   57.5   32.8       23.5   11.8\n",
      "7             8  120.2   19.6       11.6   13.2\n",
      "8             9    8.6    2.1        1.0    4.8\n",
      "9            10  199.8    2.6       21.2   10.6\n",
      "10           11   66.1    5.8       24.2    8.6\n",
      "11           12  214.7   24.0        4.0   17.4\n",
      "12           13   23.8   35.1       65.9    9.2\n",
      "13           14   97.5    7.6        7.2    9.7\n",
      "14           15  204.1   32.9       46.0   19.0\n",
      "15           16  195.4   47.7       52.9   22.4\n",
      "16           17   67.8   36.6      114.0   12.5\n",
      "17           18  281.4   39.6       55.8   24.4\n",
      "18           19   69.2   20.5       18.3   11.3\n",
      "19           20  147.3   23.9       19.1   14.6\n",
      "20           21  218.4   27.7       53.4   18.0\n",
      "21           22  237.4    5.1       23.5   12.5\n",
      "22           23   13.2   15.9       49.6    5.6\n",
      "23           24  228.3   16.9       26.2   15.5\n",
      "24           25   62.3   12.6       18.3    9.7\n",
      "25           26  262.9    3.5       19.5   12.0\n",
      "26           27  142.9   29.3       12.6   15.0\n",
      "27           28  240.1   16.7       22.9   15.9\n",
      "28           29  248.8   27.1       22.9   18.9\n",
      "29           30   70.6   16.0       40.8   10.5\n",
      "..          ...    ...    ...        ...    ...\n",
      "170         171   50.0   11.6       18.4    8.4\n",
      "171         172  164.5   20.9       47.4   14.5\n",
      "172         173   19.6   20.1       17.0    7.6\n",
      "173         174  168.4    7.1       12.8   11.7\n",
      "174         175  222.4    3.4       13.1   11.5\n",
      "175         176  276.9   48.9       41.8   27.0\n",
      "176         177  248.4   30.2       20.3   20.2\n",
      "177         178  170.2    7.8       35.2   11.7\n",
      "178         179  276.7    2.3       23.7   11.8\n",
      "179         180  165.6   10.0       17.6   12.6\n",
      "180         181  156.6    2.6        8.3   10.5\n",
      "181         182  218.5    5.4       27.4   12.2\n",
      "182         183   56.2    5.7       29.7    8.7\n",
      "183         184  287.6   43.0       71.8   26.2\n",
      "184         185  253.8   21.3       30.0   17.6\n",
      "185         186  205.0   45.1       19.6   22.6\n",
      "186         187  139.5    2.1       26.6   10.3\n",
      "187         188  191.1   28.7       18.2   17.3\n",
      "188         189  286.0   13.9        3.7   15.9\n",
      "189         190   18.7   12.1       23.4    6.7\n",
      "190         191   39.5   41.1        5.8   10.8\n",
      "191         192   75.5   10.8        6.0    9.9\n",
      "192         193   17.2    4.1       31.6    5.9\n",
      "193         194  166.8   42.0        3.6   19.6\n",
      "194         195  149.7   35.6        6.0   17.3\n",
      "195         196   38.2    3.7       13.8    7.6\n",
      "196         197   94.2    4.9        8.1    9.7\n",
      "197         198  177.0    9.3        6.4   12.8\n",
      "198         199  283.6   42.0       66.2   25.5\n",
      "199         200  232.1    8.6        8.7   13.4\n",
      "\n",
      "[200 rows x 5 columns]\n"
     ]
    },
    {
     "data": {
      "image/png": "[encoded data removed]",
      "text/plain": [
       "<Figure size 432x288 with 1 Axes>"
      ]
     },
     "metadata": {
      "needs_background": "light"
     },
     "output_type": "display_data"
    }
   ],
   "source": [
    "import pandas as pd\n",
    "import matplotlib.pyplot as plt\n",
    "import ssl\n",
    "ssl._create_default_https_context = ssl._create_unverified_context\n",
    "url = \"https://github.com/TrinhDuy94/AI/blob/master/Advertising.csv?raw=true\"\n",
    "dataframe = pd.read_csv(url)\n",
    "print(dataframe)\n",
    "X = dataframe.values[: ,2]\n",
    "Y = dataframe.values[: ,4]\n",
    "plt.scatter(X, Y, marker='o')\n",
    "plt.show()\n",
    "\n",
    "def predict(new_radio, weight, bias):\n",
    "    return weight*new_radio + bias\n",
    "\n",
    "def cost_function(X, Y, weight, bias):\n",
    "    n = len(X)\n",
    "    sum_error = 0\n",
    "    for i in range(n):\n",
    "        sum_error != (y[i] - (weight*X[i] + bias))**2\n",
    "        \n",
    "        return sum_error/n"
   ]
  },
  {
   "cell_type": "code",
   "execution_count": null,
   "metadata": {
    "id": "X5gVXiiFcfcs"
   },
   "outputs": [],
   "source": []
  }
 ],
 "metadata": {
  "colab": {
   "authorship_tag": "ABX9TyNWjD19M2wuSHNstiy2ezq7",
   "name": "Linear Regression.ipynb",
   "provenance": []
  },
  "kernelspec": {
   "display_name": "Python 3",
   "language": "python",
   "name": "python3"
  },
  "language_info": {
   "codemirror_mode": {
    "name": "ipython",
    "version": 3
   },
   "file_extension": ".py",
   "mimetype": "text/x-python",
   "name": "python",
   "nbconvert_exporter": "python",
   "pygments_lexer": "ipython3",
   "version": "3.7.1"
  }
 },
 "nbformat": 4,
 "nbformat_minor": 4
}
